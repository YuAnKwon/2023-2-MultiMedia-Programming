{
 "cells": [
  {
   "cell_type": "code",
   "execution_count": 21,
   "id": "a3051620",
   "metadata": {},
   "outputs": [],
   "source": [
    "import pygame\n",
    "import pygame.mixer\n",
    "from time import sleep\n",
    "import numpy as np\n",
    "\n",
    "import matplotlib.pyplot as plt\n",
    "from scipy import signal, misc\n",
    "from scipy.io import wavfile\n",
    "\n",
    "\n",
    "def Play_sound(filename):\n",
    "    pygame.mixer.init()\n",
    "    sound = pygame.mixer.Sound(filename)\n",
    "    tmp = sound.play()\n",
    "    while tmp.get_busy():\n",
    "        pygame.time.delay(1)\n",
    "    \n",
    "freq_low = 852\n",
    "freq_high = 1477\n",
    "\n",
    "A = 5000\n",
    "fs = 8000 # 사람 목소리 샘플링 주파수\n",
    "tu = 0.5 #삐 울리는 소리 0.5초\n",
    "sample_num = int(tu*fs) #샘플 개수 4000개\n",
    "\n",
    "n = np.linspace(0,tu,fs)\n",
    "tone = A * np.sin(2*n*np.pi*freq_low) +  A * np.sin(2*n*np.pi*freq_high)\n",
    "tone = np.cast['int16'](tone)\n",
    "wavfile.write(\"Tone.wav\", fs, tone)\n",
    "Play_sound(\"Tone.wav\")\n",
    "\n",
    "##전화기 키패드 소리가 나야함."
   ]
  },
  {
   "cell_type": "code",
   "execution_count": null,
   "id": "0f114a7b",
   "metadata": {
    "scrolled": true
   },
   "outputs": [],
   "source": [
    "\n",
    "\n",
    "number = [7, 4, 1, 4, 7, 7, 7, 4, 4, 4, 7, 7, 7]\n",
    "length = len(number)\n",
    "freq_low = [941, 697, 697, 697, 770, 770, 770, 852, 852, 852, 941, 941]\n",
    "freq_high = [1336, 1209, 1336, 1477, 1209, 1336, 1477, 1209, 1336, 1477, \n",
    "             1209, 1477]\n",
    "\n",
    "def sinusoidal(ti,tf,fs,A,f0,r):\n",
    "    t = np.arange(ti,tf,1/fs)\n",
    "    \n",
    "    if r == 0:\n",
    "        x = A * np.sin(2*np.pi*f0*t)\n",
    "        \n",
    "    else:\n",
    "        x = A * np.cos(2*np.pi*f0*t)\n",
    "        \n",
    "    return x\n",
    "\n",
    "A = 5000\n",
    "fs = 8000\n",
    "tu = 0.5\n",
    "ti = 0.0\n",
    "tf = 0.5\n",
    "\n",
    "DTMF_sound = []\n",
    "silence = np.zeros(1000)\n",
    "for index in range(length):\n",
    "    tone = sinusoidal(ti,tf,fs,A,freq_low[number[index]],0) + sinusoidal(ti,tf,fs,A,freq_high[number[index]],0)\n",
    "    DTMF_sound.append(tone)\n",
    "    DTMF_sound.append(silence)\n",
    "    \n",
    "DTMF_sound = np.concatenate(DTMF_sound) #1차원으로. 일열로 쭉 붙이기\n",
    "DTMF_sound = np.cast['int16'](DTMF_sound)\n",
    "wavfile.write(\"DTMF.wav\", fs, DTMF_sound)\n",
    "Play_sound(\"DTMF.wav\")"
   ]
  },
  {
   "cell_type": "code",
   "execution_count": null,
   "id": "9ff1af7a",
   "metadata": {},
   "outputs": [],
   "source": []
  }
 ],
 "metadata": {
  "kernelspec": {
   "display_name": "Python 3 (ipykernel)",
   "language": "python",
   "name": "python3"
  },
  "language_info": {
   "codemirror_mode": {
    "name": "ipython",
    "version": 3
   },
   "file_extension": ".py",
   "mimetype": "text/x-python",
   "name": "python",
   "nbconvert_exporter": "python",
   "pygments_lexer": "ipython3",
   "version": "3.9.7"
  }
 },
 "nbformat": 4,
 "nbformat_minor": 5
}
