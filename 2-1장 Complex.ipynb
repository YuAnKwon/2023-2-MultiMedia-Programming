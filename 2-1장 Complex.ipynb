{
 "cells": [
  {
   "cell_type": "markdown",
   "id": "054324dc",
   "metadata": {},
   "source": [
    "### < 실습문제 4-1 > 복소수 A = 3+j5에서 \n",
    ">(a) 크기성분 |A|와 ∠A를 구하는 프로그램을 작성하시오. \n",
    " (Hint : np.angle()과 np.abs() 함수를 사용하시오.)  \n",
    ">(b) 크기성분 |A|와 ∠A를 이용하여 원래의 복소수 A를 구하시오.\n"
   ]
  },
  {
   "cell_type": "code",
   "execution_count": 5,
   "id": "eec07ae0",
   "metadata": {},
   "outputs": [
    {
     "name": "stdout",
     "output_type": "stream",
     "text": [
      "(3+5j)\n"
     ]
    }
   ],
   "source": [
    "import numpy as np\n",
    "\n",
    "A = 3 + 5j\n",
    "print(A)"
   ]
  },
  {
   "cell_type": "code",
   "execution_count": 10,
   "id": "1ce8202f",
   "metadata": {},
   "outputs": [
    {
     "name": "stdout",
     "output_type": "stream",
     "text": [
      "5.830951894845301 1.0303768265243125\n"
     ]
    }
   ],
   "source": [
    "#크기성분 \n",
    "Mag = np.abs(A)\n",
    "#위상성분\n",
    "Pha = np.angle(A)\n",
    "\n",
    "print(Mag,Pha)"
   ]
  },
  {
   "cell_type": "code",
   "execution_count": 13,
   "id": "c339fb12",
   "metadata": {},
   "outputs": [
    {
     "name": "stdout",
     "output_type": "stream",
     "text": [
      "5.830951894845301 1.0303768265243125\n"
     ]
    }
   ],
   "source": [
    "M = np.sqrt(np.power(3,2)+ np.power(5,2)) #루트\n",
    "P = np.arctan(5/3)\n",
    "print(M,P)"
   ]
  },
  {
   "cell_type": "code",
   "execution_count": 17,
   "id": "47921b2d",
   "metadata": {},
   "outputs": [
    {
     "name": "stdout",
     "output_type": "stream",
     "text": [
      "(3+5j)\n"
     ]
    }
   ],
   "source": [
    "# (b)문제 : z = re^j세타\n",
    "\n",
    "A = Mag * np.exp(1j * Pha) # 그냥 j는 오류. 그래서 1j 를 해야함요.ㅎㅅㅎ\n",
    "print(A)"
   ]
  },
  {
   "cell_type": "markdown",
   "id": "d03147e5",
   "metadata": {},
   "source": [
    "### < 실습문제 4-2 > \n",
    "> 오디오 신호를 녹음하고자 한다. 길이는 1분이고, 샘플링 주파수는 44.1 kHz, 양자화 비트수는 2바이트, 채널은 스테레오인 2채널이다. 녹음된 오디오의 총 크기를 바이트로 표현\n",
    "하시오."
   ]
  },
  {
   "cell_type": "markdown",
   "id": "51023410",
   "metadata": {},
   "source": [
    "60 * 44100 * 2byte * 2 = 10,584,000 byte = 10.5M\n",
    "크기가 너무커서 압축 -> MP3ㅎㅎ"
   ]
  },
  {
   "cell_type": "code",
   "execution_count": null,
   "id": "10ff3b30",
   "metadata": {},
   "outputs": [],
   "source": []
  }
 ],
 "metadata": {
  "kernelspec": {
   "display_name": "Python 3 (ipykernel)",
   "language": "python",
   "name": "python3"
  },
  "language_info": {
   "codemirror_mode": {
    "name": "ipython",
    "version": 3
   },
   "file_extension": ".py",
   "mimetype": "text/x-python",
   "name": "python",
   "nbconvert_exporter": "python",
   "pygments_lexer": "ipython3",
   "version": "3.9.7"
  }
 },
 "nbformat": 4,
 "nbformat_minor": 5
}
